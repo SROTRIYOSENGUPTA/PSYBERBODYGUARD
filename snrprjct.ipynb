{
 "cells": [
  {
   "cell_type": "code",
   "execution_count": null,
   "metadata": {
    "vscode": {
     "languageId": "plaintext"
    }
   },
   "outputs": [],
   "source": [
    "import praw\n",
    "import json\n",
    "\n",
    "reddit = praw.Reddit(client_id = \"---\",\n",
    "client_secret = \"---\",\n",
    "user_agent = \"---\",\n",
    "username = \"---\",\n",
    "password = \"---\")\n",
    "\n",
    "bully_user = input(\"Enter username of interested account: \")\n",
    "bully = reddit.redditor(bully_user)\n",
    "print(bully.is_friend)\n",
    "comment_history = []\n",
    "comment_times = []\n",
    "\n",
    "for comment in bully.comments.new(limit=4):\n",
    "    print(comment.body)\n",
    "    comment_history.append(comment.body)\n",
    "    comment_times.append(comment.created_utc)\n",
    "updated_time = []\n",
    "\n",
    "from datetime import datetime\n",
    "for time in comment_times:\n",
    "    #print(datetime.fromtimestamp(time))\n",
    "    updated_time.append(datetime.fromtimestamp(time).strftime('%Y-%m-%d %H:%M:%S'))\n",
    "\n",
    "\n",
    "import os\n",
    "import openai\n",
    "\n",
    "openai.api_key = ('secret-key')\n",
    "\n",
    "message_history = []\n",
    "def chat(inp, role = \"user\"):\n",
    "    message_history.append({\"role\" : role, \"content\" :inp})\n",
    "\n",
    "    completion = openai.ChatCompletion.create(\n",
    "        model = \"gpt-3.5-turbo\",\n",
    "        messages = message_history,\n",
    "    )\n",
    "\n",
    "    reply_content = completion.choices[0].message.content\n",
    "    print(reply_content)\n",
    "    message_history.append({\"role\" : \"assistant\", \"content\" : reply_content})\n",
    "    return reply_content\n",
    "\n",
    "chat(\"I am creating anti-cyberbullying software.\\\n",
    "    I am going to send comments to you that a bully could potentially send to a victim online.\\\n",
    "    I want you to rate them on a scale from 1 to 5 in terms of negativity.\\\n",
    "    Then, provide a neutral response without a question to diffuse the situation.\")\n",
    "\n",
    "for comment in comment_history:\n",
    "    print(\"User Input: \" + comment)\n",
    "    print()\n",
    "    chat(comment)\n",
    "    print()\n",
    "    \n",
    "from tabulate import tabulate\n",
    "myData = []\n",
    "\n",
    "for x in range(len(comment_history)):\n",
    "    myData.append([updated_time[x], bully.name, message_history[(x+1)*2]['content'], message_history[(x*2)+3]['content']])\n",
    "\n",
    "head = [\"Time\", \"Username of Bully\", \"Comment\", \"Neutral AI Response\"]\n",
    "print(tabulate(myData, headers=head, tablefmt=\"grid\"))"
   ]
  }
 ],
 "metadata": {
  "language_info": {
   "name": "python"
  },
  "orig_nbformat": 4
 },
 "nbformat": 4,
 "nbformat_minor": 2
}
